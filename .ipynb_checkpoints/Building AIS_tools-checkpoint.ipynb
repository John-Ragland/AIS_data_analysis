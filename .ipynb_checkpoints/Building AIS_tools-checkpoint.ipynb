{
 "cells": [
  {
   "cell_type": "code",
   "execution_count": 1,
   "metadata": {},
   "outputs": [],
   "source": [
    "import pandas as pd\n",
    "import os\n",
    "from matplotlib import pyplot as plt\n",
    "import datetime\n",
    "import numpy as np\n",
    "import seaborn as sns\n",
    "import datetime\n",
    "import plotly.express as px\n",
    "import plotly\n",
    "import plotly.graph_objects as go\n",
    "import pickle\n",
    "import AIS_tools\n",
    "\n",
    "# Some more magic so that the notebook will reload external python modules;\n",
    "# see http://stackoverflow.com/questions/1907993/autoreload-of-modules-in-ipython\n",
    "%load_ext autoreload\n",
    "%autoreload 2"
   ]
  },
  {
   "cell_type": "code",
   "execution_count": 2,
   "metadata": {},
   "outputs": [
    {
     "data": {
      "text/html": [
       "<div>\n",
       "<style scoped>\n",
       "    .dataframe tbody tr th:only-of-type {\n",
       "        vertical-align: middle;\n",
       "    }\n",
       "\n",
       "    .dataframe tbody tr th {\n",
       "        vertical-align: top;\n",
       "    }\n",
       "\n",
       "    .dataframe thead th {\n",
       "        text-align: right;\n",
       "    }\n",
       "</style>\n",
       "<table border=\"1\" class=\"dataframe\">\n",
       "  <thead>\n",
       "    <tr style=\"text-align: right;\">\n",
       "      <th></th>\n",
       "      <th>index</th>\n",
       "      <th>MMSI</th>\n",
       "      <th>IMO</th>\n",
       "      <th>STATUS</th>\n",
       "      <th>SPEED (KNOTSx10)</th>\n",
       "      <th>LAT</th>\n",
       "      <th>LON</th>\n",
       "      <th>COURSE</th>\n",
       "      <th>HEADING</th>\n",
       "      <th>TIMESTAMP UTC</th>\n",
       "      <th>time</th>\n",
       "    </tr>\n",
       "  </thead>\n",
       "  <tbody>\n",
       "    <tr>\n",
       "      <th>0</th>\n",
       "      <td>0</td>\n",
       "      <td>369272000</td>\n",
       "      <td>9206114.0</td>\n",
       "      <td>0</td>\n",
       "      <td>132</td>\n",
       "      <td>45.05585</td>\n",
       "      <td>-129.9805</td>\n",
       "      <td>147</td>\n",
       "      <td>148</td>\n",
       "      <td>2018-01-02 12:34:51</td>\n",
       "      <td>2018-01-02 12:34:51</td>\n",
       "    </tr>\n",
       "    <tr>\n",
       "      <th>1</th>\n",
       "      <td>1</td>\n",
       "      <td>563673000</td>\n",
       "      <td>9689160.0</td>\n",
       "      <td>0</td>\n",
       "      <td>114</td>\n",
       "      <td>46.40802</td>\n",
       "      <td>-130.5953</td>\n",
       "      <td>105</td>\n",
       "      <td>106</td>\n",
       "      <td>2018-01-02 12:37:06</td>\n",
       "      <td>2018-01-02 12:37:06</td>\n",
       "    </tr>\n",
       "    <tr>\n",
       "      <th>2</th>\n",
       "      <td>2</td>\n",
       "      <td>356159000</td>\n",
       "      <td>NaN</td>\n",
       "      <td>0</td>\n",
       "      <td>131</td>\n",
       "      <td>46.54730</td>\n",
       "      <td>-129.6827</td>\n",
       "      <td>298</td>\n",
       "      <td>300</td>\n",
       "      <td>2018-01-02 12:42:06</td>\n",
       "      <td>2018-01-02 12:42:06</td>\n",
       "    </tr>\n",
       "    <tr>\n",
       "      <th>3</th>\n",
       "      <td>3</td>\n",
       "      <td>563673000</td>\n",
       "      <td>9689160.0</td>\n",
       "      <td>0</td>\n",
       "      <td>113</td>\n",
       "      <td>46.40329</td>\n",
       "      <td>-130.5711</td>\n",
       "      <td>106</td>\n",
       "      <td>106</td>\n",
       "      <td>2018-01-02 12:42:34</td>\n",
       "      <td>2018-01-02 12:42:34</td>\n",
       "    </tr>\n",
       "    <tr>\n",
       "      <th>4</th>\n",
       "      <td>4</td>\n",
       "      <td>369272000</td>\n",
       "      <td>9206114.0</td>\n",
       "      <td>0</td>\n",
       "      <td>133</td>\n",
       "      <td>45.02689</td>\n",
       "      <td>-129.9556</td>\n",
       "      <td>149</td>\n",
       "      <td>148</td>\n",
       "      <td>2018-01-02 12:44:02</td>\n",
       "      <td>2018-01-02 12:44:02</td>\n",
       "    </tr>\n",
       "    <tr>\n",
       "      <th>...</th>\n",
       "      <td>...</td>\n",
       "      <td>...</td>\n",
       "      <td>...</td>\n",
       "      <td>...</td>\n",
       "      <td>...</td>\n",
       "      <td>...</td>\n",
       "      <td>...</td>\n",
       "      <td>...</td>\n",
       "      <td>...</td>\n",
       "      <td>...</td>\n",
       "      <td>...</td>\n",
       "    </tr>\n",
       "    <tr>\n",
       "      <th>1921105</th>\n",
       "      <td>63176</td>\n",
       "      <td>369272000</td>\n",
       "      <td>9206114.0</td>\n",
       "      <td>0</td>\n",
       "      <td>133</td>\n",
       "      <td>45.09314</td>\n",
       "      <td>-130.0125</td>\n",
       "      <td>149</td>\n",
       "      <td>148</td>\n",
       "      <td>2018-01-02 12:23:01</td>\n",
       "      <td>2018-01-02 12:23:01</td>\n",
       "    </tr>\n",
       "    <tr>\n",
       "      <th>1921106</th>\n",
       "      <td>63177</td>\n",
       "      <td>356159000</td>\n",
       "      <td>9382061.0</td>\n",
       "      <td>0</td>\n",
       "      <td>129</td>\n",
       "      <td>46.51588</td>\n",
       "      <td>-129.6001</td>\n",
       "      <td>299</td>\n",
       "      <td>299</td>\n",
       "      <td>2018-01-02 12:24:22</td>\n",
       "      <td>2018-01-02 12:24:22</td>\n",
       "    </tr>\n",
       "    <tr>\n",
       "      <th>1921107</th>\n",
       "      <td>63178</td>\n",
       "      <td>563673000</td>\n",
       "      <td>9689160.0</td>\n",
       "      <td>0</td>\n",
       "      <td>114</td>\n",
       "      <td>46.42135</td>\n",
       "      <td>-130.6508</td>\n",
       "      <td>109</td>\n",
       "      <td>110</td>\n",
       "      <td>2018-01-02 12:25:29</td>\n",
       "      <td>2018-01-02 12:25:29</td>\n",
       "    </tr>\n",
       "    <tr>\n",
       "      <th>1921108</th>\n",
       "      <td>63179</td>\n",
       "      <td>563673000</td>\n",
       "      <td>9689160.0</td>\n",
       "      <td>0</td>\n",
       "      <td>114</td>\n",
       "      <td>46.41515</td>\n",
       "      <td>-130.6248</td>\n",
       "      <td>108</td>\n",
       "      <td>110</td>\n",
       "      <td>2018-01-02 12:30:13</td>\n",
       "      <td>2018-01-02 12:30:13</td>\n",
       "    </tr>\n",
       "    <tr>\n",
       "      <th>1921109</th>\n",
       "      <td>63180</td>\n",
       "      <td>563673000</td>\n",
       "      <td>9689160.0</td>\n",
       "      <td>0</td>\n",
       "      <td>114</td>\n",
       "      <td>46.41211</td>\n",
       "      <td>-130.6125</td>\n",
       "      <td>109</td>\n",
       "      <td>110</td>\n",
       "      <td>2018-01-02 12:33:04</td>\n",
       "      <td>2018-01-02 12:33:04</td>\n",
       "    </tr>\n",
       "  </tbody>\n",
       "</table>\n",
       "<p>1921110 rows × 11 columns</p>\n",
       "</div>"
      ],
      "text/plain": [
       "         index       MMSI        IMO  STATUS  SPEED (KNOTSx10)       LAT  \\\n",
       "0            0  369272000  9206114.0       0               132  45.05585   \n",
       "1            1  563673000  9689160.0       0               114  46.40802   \n",
       "2            2  356159000        NaN       0               131  46.54730   \n",
       "3            3  563673000  9689160.0       0               113  46.40329   \n",
       "4            4  369272000  9206114.0       0               133  45.02689   \n",
       "...        ...        ...        ...     ...               ...       ...   \n",
       "1921105  63176  369272000  9206114.0       0               133  45.09314   \n",
       "1921106  63177  356159000  9382061.0       0               129  46.51588   \n",
       "1921107  63178  563673000  9689160.0       0               114  46.42135   \n",
       "1921108  63179  563673000  9689160.0       0               114  46.41515   \n",
       "1921109  63180  563673000  9689160.0       0               114  46.41211   \n",
       "\n",
       "              LON  COURSE  HEADING        TIMESTAMP UTC                time  \n",
       "0       -129.9805     147      148  2018-01-02 12:34:51 2018-01-02 12:34:51  \n",
       "1       -130.5953     105      106  2018-01-02 12:37:06 2018-01-02 12:37:06  \n",
       "2       -129.6827     298      300  2018-01-02 12:42:06 2018-01-02 12:42:06  \n",
       "3       -130.5711     106      106  2018-01-02 12:42:34 2018-01-02 12:42:34  \n",
       "4       -129.9556     149      148  2018-01-02 12:44:02 2018-01-02 12:44:02  \n",
       "...           ...     ...      ...                  ...                 ...  \n",
       "1921105 -130.0125     149      148  2018-01-02 12:23:01 2018-01-02 12:23:01  \n",
       "1921106 -129.6001     299      299  2018-01-02 12:24:22 2018-01-02 12:24:22  \n",
       "1921107 -130.6508     109      110  2018-01-02 12:25:29 2018-01-02 12:25:29  \n",
       "1921108 -130.6248     108      110  2018-01-02 12:30:13 2018-01-02 12:30:13  \n",
       "1921109 -130.6125     109      110  2018-01-02 12:33:04 2018-01-02 12:33:04  \n",
       "\n",
       "[1921110 rows x 11 columns]"
      ]
     },
     "execution_count": 2,
     "metadata": {},
     "output_type": "execute_result"
    }
   ],
   "source": [
    "df = AIS_tools.get_AIS_data()\n",
    "df"
   ]
  },
  {
   "cell_type": "code",
   "execution_count": 6,
   "metadata": {},
   "outputs": [],
   "source": [
    "group = df.groupby('MMSI')\n",
    "\n",
    "MMSIs = df['MMSI'].unique()\n"
   ]
  },
  {
   "cell_type": "code",
   "execution_count": 11,
   "metadata": {},
   "outputs": [
    {
     "data": {
      "text/plain": [
       "(5631,)"
      ]
     },
     "execution_count": 11,
     "metadata": {},
     "output_type": "execute_result"
    }
   ],
   "source": [
    "MMSIs.shape"
   ]
  },
  {
   "cell_type": "code",
   "execution_count": 18,
   "metadata": {},
   "outputs": [
    {
     "name": "stdout",
     "output_type": "stream",
     "text": [
      "99.9822411649795854\r"
     ]
    }
   ],
   "source": [
    "ship_ls, MMSIs = AIS_tools.single_ship_pass(df)"
   ]
  },
  {
   "cell_type": "code",
   "execution_count": 39,
   "metadata": {},
   "outputs": [],
   "source": [
    "single_ship = ship_ls[10]\n",
    "single_ship = single_ship.reset_index()"
   ]
  },
  {
   "cell_type": "code",
   "execution_count": 62,
   "metadata": {},
   "outputs": [
    {
     "data": {
      "text/plain": [
       "(171, 12)"
      ]
     },
     "execution_count": 62,
     "metadata": {},
     "output_type": "execute_result"
    }
   ],
   "source": [
    "\n",
    "single_ship.shape"
   ]
  },
  {
   "cell_type": "code",
   "execution_count": 63,
   "metadata": {},
   "outputs": [
    {
     "name": "stdout",
     "output_type": "stream",
     "text": [
      "new pass\n",
      "new pass\n",
      "new pass\n",
      "new pass\n",
      "new pass\n",
      "new pass\n",
      "new pass\n",
      "new pass\n",
      "new pass\n",
      "new pass\n"
     ]
    }
   ],
   "source": [
    "for k in range(1,171):\n",
    "    diff = single_ship['time'][k] - single_ship['time'][k-1]\n",
    "    diff_s = diff.seconds\n",
    "    if diff_s > 3600:\n",
    "        print('new pass')"
   ]
  },
  {
   "cell_type": "code",
   "execution_count": null,
   "metadata": {},
   "outputs": [],
   "source": []
  }
 ],
 "metadata": {
  "kernelspec": {
   "display_name": "Python 3",
   "language": "python",
   "name": "python3"
  },
  "language_info": {
   "codemirror_mode": {
    "name": "ipython",
    "version": 3
   },
   "file_extension": ".py",
   "mimetype": "text/x-python",
   "name": "python",
   "nbconvert_exporter": "python",
   "pygments_lexer": "ipython3",
   "version": "3.7.7"
  }
 },
 "nbformat": 4,
 "nbformat_minor": 4
}
